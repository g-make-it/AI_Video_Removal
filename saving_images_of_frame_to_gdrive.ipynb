{
  "nbformat": 4,
  "nbformat_minor": 0,
  "metadata": {
    "colab": {
      "provenance": [],
      "include_colab_link": true
    },
    "kernelspec": {
      "name": "python3",
      "display_name": "Python 3"
    },
    "language_info": {
      "name": "python"
    }
  },
  "cells": [
    {
      "cell_type": "markdown",
      "metadata": {
        "id": "view-in-github",
        "colab_type": "text"
      },
      "source": [
        "<a href=\"https://colab.research.google.com/github/g-make-it/AI_Video_Removal/blob/main/saving_images_of_frame_to_gdrive.ipynb\" target=\"_parent\"><img src=\"https://colab.research.google.com/assets/colab-badge.svg\" alt=\"Open In Colab\"/></a>"
      ]
    },
    {
      "cell_type": "markdown",
      "source": [
        "\n",
        "<div align=\"center\">\n",
        "  <p>\n",
        "    <a align=\"center\" href=\"\" target=\"_blank\">\n",
        "      <img\n",
        "        width=\"850\"\n",
        "        src=\"https://raw.githubusercontent.com/g-make-it/holding_images/main/banner_for_g_program_it.jpg\"\n",
        "      >\n",
        "    </a>\n",
        "  </p>\n",
        "  <br>\n",
        "\n",
        "</div>\n",
        "\n",
        "## AI Video Editing\n",
        "\n",
        "These scripts are used to remove objects in videos. Run in them in sequence and checkout the video below from my youtube channel to see how they work.\n",
        "\n",
        "## Scripts in order they should run (top - 1st)\n",
        "| **notebook** | **open in colab** | **complementary materials** |\n",
        "|:------------:|:-------------------------------------------------:|:---------------------------:|\n",
        "| [Convert Video To images](https://github.com/g-make-it/AI_Video_Removal/blob/main/saving_images_of_frame_to_gdrive.ipynb) | [![Colab](https://colab.research.google.com/assets/colab-badge.svg)](https://colab.research.google.com/github/g-make-it/AI_Video_Removal/blob/main/saving_images_of_frame_to_gdrive.ipynb)  [![YouTube](https://badges.aleen42.com/src/youtube.svg)](https://youtu.be/VUA8uE51z1s) | [![GitHub](https://badges.aleen42.com/src/github.svg)](https://github.com/g-make-it/AI_Video_Removal)|\n",
        "| [Generate Mask - using SAM/GroundingDino](https://github.com/g-make-it/AI_Video_Removal/blob/main/generate_and_saving_masks_to_drive.ipynb) | [![Colab](https://colab.research.google.com/assets/colab-badge.svg)](https://colab.research.google.com/github/g-make-it/AI_Video_Removal/blob/main/generate_and_saving_masks_to_drive.ipynb)  [![YouTube](https://badges.aleen42.com/src/youtube.svg)](https://youtu.be/VUA8uE51z1s) | [![GitHub](https://badges.aleen42.com/src/github.svg)](https://github.com/IDEA-Research/Grounded-Segment-Anything)|\n",
        "| [Remove Object and Create Video (using mask)](https://github.com/g-make-it/AI_Video_Removal/blob/main/removing_items_from_videos_by_using_object_guided_flow_transfomers_removal.ipynb) | [![Colab](https://colab.research.google.com/assets/colab-badge.svg)](https://colab.research.google.com/github/g-make-it/AI_Video_Removal/blob/main/removing_items_from_videos_by_using_object_guided_flow_transfomers_removal.ipynb)  [![YouTube](https://badges.aleen42.com/src/youtube.svg)](https://youtu.be/VUA8uE51z1s) | [![GitHub](https://badges.aleen42.com/src/github.svg)](https://github.com/hitachinsk/FGT) [![arXiv](https://img.shields.io/badge/arXiv-2304.02643-b31b1b.svg)](https://arxiv.org/abs/2208.06768)|\n",
        "| [Remove Flickering and Recreate Video](https://github.com/g-make-it/AI_Video_Removal/blob/main/convert_clean_video_to_images_and_remove_flickering.ipynb) | [![Colab](https://colab.research.google.com/assets/colab-badge.svg)](https://colab.research.google.com/github/g-make-it/AI_Video_Removal/blob/main/convert_clean_video_to_images_and_remove_flickering.ipynb)  [![YouTube](https://badges.aleen42.com/src/youtube.svg)](https://youtu.be/VUA8uE51z1s) | [![GitHub](https://badges.aleen42.com/src/github.svg)](https://github.com/g-make-it/AI_Video_Removal) |\n",
        "\n",
        "\n",
        "## videos\n",
        "\n",
        "[Subscribe](https://www.youtube.com/@g-program-it), and stay up to date with our latest YouTube videos!\n",
        "\n",
        "<p align=\"center\">\n",
        "    <a href=\"https://youtu.be/VUA8uE51z1s\">\n",
        "        <img src=\"https://raw.githubusercontent.com/g-make-it/holding_images/main/largest_thumbnail.png\" alt=\"AI Video Editing\">\n",
        "    </a>\n",
        "</p>\n",
        "\n",
        "## run locally\n",
        "\n",
        "locally, below you will find instructions on how to do it. Remember don't install your dependencies globally, use\n",
        "[venv](https://packaging.python.org/en/latest/guides/installing-using-pip-and-virtual-environments/).\n",
        "\n",
        "```console\n",
        "# clone repository and navigate to root directory\n",
        "git clone https://github.com/g-make-it/AI_Video_Removal.git\n",
        "\n",
        "# setup python environment and activate it\n",
        "python3 -m venv venv\n",
        "source venv/bin/activate\n",
        "\n",
        "# install and run jupyter notebook\n",
        "pip install notebook\n",
        "jupyter notebook\n",
        "```\n",
        "\n",
        "\n"
      ],
      "metadata": {
        "id": "0uJ7bZSVmx_r"
      }
    },
    {
      "cell_type": "code",
      "execution_count": null,
      "metadata": {
        "colab": {
          "base_uri": "https://localhost:8080/"
        },
        "id": "yWS1hINQwLEr",
        "outputId": "42edb0da-e0ce-41a8-c5f0-e181d9ad91ef"
      },
      "outputs": [
        {
          "output_type": "stream",
          "name": "stdout",
          "text": [
            "Looking in indexes: https://pypi.org/simple, https://us-python.pkg.dev/colab-wheels/public/simple/\n",
            "Requirement already satisfied: opencv-python in /usr/local/lib/python3.9/dist-packages (4.7.0.72)\n",
            "Requirement already satisfied: numpy>=1.17.0 in /usr/local/lib/python3.9/dist-packages (from opencv-python) (1.22.4)\n"
          ]
        }
      ],
      "source": [
        "pip install opencv-python"
      ]
    },
    {
      "cell_type": "code",
      "source": [
        "from google.colab import drive\n",
        "drive.mount('/content/drive')"
      ],
      "metadata": {
        "colab": {
          "base_uri": "https://localhost:8080/"
        },
        "id": "UovDzFpww0pY",
        "outputId": "ee37a3c4-dadf-45c3-e582-23c53321e109"
      },
      "execution_count": null,
      "outputs": [
        {
          "output_type": "stream",
          "name": "stdout",
          "text": [
            "Mounted at /content/drive\n"
          ]
        }
      ]
    },
    {
      "cell_type": "code",
      "source": [
        "import cv2\n",
        "vidcap = cv2.VideoCapture('/content/drive/MyDrive/video_for_clean_plating/hand lands a hit on G.mp4')\n",
        "success,image = vidcap.read()\n",
        "count = 0\n",
        "while success:\n",
        "  cv2.imwrite(\"/content/drive/MyDrive/video_images/%d.jpg\" % count, image)     # save frame as JPEG file      \n",
        "  success,image = vidcap.read()\n",
        "  print('Read a new frame: ', success)\n",
        "  count += 1"
      ],
      "metadata": {
        "colab": {
          "base_uri": "https://localhost:8080/"
        },
        "id": "TrHSfJ9U1O43",
        "outputId": "5ea52c1d-2586-462a-b19f-645269d27f6d"
      },
      "execution_count": null,
      "outputs": [
        {
          "output_type": "stream",
          "name": "stdout",
          "text": [
            "Read a new frame:  True\n",
            "Read a new frame:  True\n",
            "Read a new frame:  True\n",
            "Read a new frame:  True\n",
            "Read a new frame:  True\n",
            "Read a new frame:  True\n",
            "Read a new frame:  True\n",
            "Read a new frame:  True\n",
            "Read a new frame:  True\n",
            "Read a new frame:  True\n",
            "Read a new frame:  True\n",
            "Read a new frame:  True\n",
            "Read a new frame:  True\n",
            "Read a new frame:  True\n",
            "Read a new frame:  True\n",
            "Read a new frame:  True\n",
            "Read a new frame:  True\n",
            "Read a new frame:  True\n",
            "Read a new frame:  True\n",
            "Read a new frame:  True\n",
            "Read a new frame:  True\n",
            "Read a new frame:  True\n",
            "Read a new frame:  True\n",
            "Read a new frame:  True\n",
            "Read a new frame:  True\n",
            "Read a new frame:  True\n",
            "Read a new frame:  True\n",
            "Read a new frame:  True\n",
            "Read a new frame:  True\n",
            "Read a new frame:  True\n",
            "Read a new frame:  True\n",
            "Read a new frame:  True\n",
            "Read a new frame:  True\n",
            "Read a new frame:  True\n",
            "Read a new frame:  True\n",
            "Read a new frame:  True\n",
            "Read a new frame:  True\n",
            "Read a new frame:  True\n",
            "Read a new frame:  True\n",
            "Read a new frame:  True\n",
            "Read a new frame:  True\n",
            "Read a new frame:  True\n",
            "Read a new frame:  True\n",
            "Read a new frame:  True\n",
            "Read a new frame:  True\n",
            "Read a new frame:  True\n",
            "Read a new frame:  True\n",
            "Read a new frame:  True\n",
            "Read a new frame:  True\n",
            "Read a new frame:  True\n",
            "Read a new frame:  True\n",
            "Read a new frame:  True\n",
            "Read a new frame:  True\n",
            "Read a new frame:  True\n",
            "Read a new frame:  True\n",
            "Read a new frame:  True\n",
            "Read a new frame:  True\n",
            "Read a new frame:  True\n",
            "Read a new frame:  True\n",
            "Read a new frame:  True\n",
            "Read a new frame:  True\n",
            "Read a new frame:  False\n"
          ]
        }
      ]
    },
    {
      "cell_type": "code",
      "source": [],
      "metadata": {
        "id": "oQu4RfGD1qS0"
      },
      "execution_count": null,
      "outputs": []
    }
  ]
}