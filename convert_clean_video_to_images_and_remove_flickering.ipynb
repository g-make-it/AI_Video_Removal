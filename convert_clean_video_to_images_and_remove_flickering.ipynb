{
  "nbformat": 4,
  "nbformat_minor": 0,
  "metadata": {
    "colab": {
      "provenance": [],
      "include_colab_link": true
    },
    "kernelspec": {
      "name": "python3",
      "display_name": "Python 3"
    },
    "language_info": {
      "name": "python"
    }
  },
  "cells": [
    {
      "cell_type": "markdown",
      "metadata": {
        "id": "view-in-github",
        "colab_type": "text"
      },
      "source": [
        "<a href=\"https://colab.research.google.com/github/g-make-it/AI_Video_Removal/blob/main/convert_clean_video_to_images_and_remove_flickering.ipynb\" target=\"_parent\"><img src=\"https://colab.research.google.com/assets/colab-badge.svg\" alt=\"Open In Colab\"/></a>"
      ]
    },
    {
      "cell_type": "markdown",
      "source": [
        "<div align=\"center\">\n",
        "  <p>\n",
        "    <a align=\"center\" href=\"\" target=\"_blank\">\n",
        "      <img\n",
        "        width=\"850\"\n",
        "        src=\"https://raw.githubusercontent.com/g-make-it/holding_images/main/banner_for_g_program_it.jpg\"\n",
        "      >\n",
        "    </a>\n",
        "  </p>\n",
        "  <br>\n",
        "\n",
        "</div>\n",
        "\n",
        "## AI Video Editing\n",
        "\n",
        "These scripts are used to remove objects in videos. Run in them in sequence and checkout the video below from my youtube channel to see how they work.\n",
        "\n",
        "## Scripts in order they should run (top - 1st)\n",
        "| **notebook** | **open in colab** | **complementary materials** |\n",
        "|:------------:|:-------------------------------------------------:|:---------------------------:|\n",
        "| [Convert Video To images](https://github.com/g-make-it/AI_Video_Removal/blob/main/saving_images_of_frame_to_gdrive.ipynb) | [![Colab](https://colab.research.google.com/assets/colab-badge.svg)](https://colab.research.google.com/github/g-make-it/AI_Video_Removal/blob/main/saving_images_of_frame_to_gdrive.ipynb)  [![YouTube](https://badges.aleen42.com/src/youtube.svg)](https://youtu.be/VUA8uE51z1s) | [![GitHub](https://badges.aleen42.com/src/github.svg)](https://github.com/g-make-it/AI_Video_Removal)|\n",
        "| [Generate Mask - using SAM/GroundingDino](https://github.com/g-make-it/AI_Video_Removal/blob/main/generate_and_saving_masks_to_drive.ipynb) | [![Colab](https://colab.research.google.com/assets/colab-badge.svg)](https://colab.research.google.com/github/g-make-it/AI_Video_Removal/blob/main/generate_and_saving_masks_to_drive.ipynb)  [![YouTube](https://badges.aleen42.com/src/youtube.svg)](https://youtu.be/VUA8uE51z1s) | [![GitHub](https://badges.aleen42.com/src/github.svg)](https://github.com/IDEA-Research/Grounded-Segment-Anything)|\n",
        "| [Remove Object and Create Video (using mask)](https://github.com/g-make-it/AI_Video_Removal/blob/main/removing_items_from_videos_by_using_object_guided_flow_transfomers_removal.ipynb) | [![Colab](https://colab.research.google.com/assets/colab-badge.svg)](https://colab.research.google.com/github/g-make-it/AI_Video_Removal/blob/main/removing_items_from_videos_by_using_object_guided_flow_transfomers_removal.ipynb)  [![YouTube](https://badges.aleen42.com/src/youtube.svg)](https://youtu.be/VUA8uE51z1s) | [![GitHub](https://badges.aleen42.com/src/github.svg)](https://github.com/hitachinsk/FGT) [![arXiv](https://img.shields.io/badge/arXiv-2304.02643-b31b1b.svg)](https://arxiv.org/abs/2208.06768)|\n",
        "| [Remove Flickering and Recreate Video](https://github.com/g-make-it/AI_Video_Removal/blob/main/convert_clean_video_to_images_and_remove_flickering.ipynb) | [![Colab](https://colab.research.google.com/assets/colab-badge.svg)](https://colab.research.google.com/github/g-make-it/AI_Video_Removal/blob/main/convert_clean_video_to_images_and_remove_flickering.ipynb)  [![YouTube](https://badges.aleen42.com/src/youtube.svg)](https://youtu.be/VUA8uE51z1s) | [![GitHub](https://badges.aleen42.com/src/github.svg)](https://github.com/g-make-it/AI_Video_Removal) |\n",
        "\n",
        "\n",
        "##  videos\n",
        "\n",
        "[Subscribe](https://www.youtube.com/@g-program-it), and stay up to date with our latest YouTube videos!\n",
        "\n",
        "<p align=\"center\">\n",
        "    <a href=\"https://youtu.be/VUA8uE51z1s\">\n",
        "        <img src=\"https://raw.githubusercontent.com/g-make-it/holding_images/main/largest_thumbnail.png\" alt=\"AI Video Editing\">\n",
        "    </a>\n",
        "</p>\n",
        "\n",
        "##  run locally\n",
        "\n",
        "locally, below you will find instructions on how to do it. Remember don't install your dependencies globally, use\n",
        "[venv](https://packaging.python.org/en/latest/guides/installing-using-pip-and-virtual-environments/).\n",
        "\n",
        "```console\n",
        "# clone repository and navigate to root directory\n",
        "git clone https://github.com/g-make-it/AI_Video_Removal.git\n",
        "\n",
        "# setup python environment and activate it\n",
        "python3 -m venv venv\n",
        "source venv/bin/activate\n",
        "\n",
        "# install and run jupyter notebook\n",
        "pip install notebook\n",
        "jupyter notebook\n",
        "```\n",
        "\n",
        "\n"
      ],
      "metadata": {
        "id": "9T1wd7eGoRfr"
      }
    },
    {
      "cell_type": "code",
      "execution_count": null,
      "metadata": {
        "colab": {
          "base_uri": "https://localhost:8080/"
        },
        "id": "1S5oay0USyfY",
        "outputId": "8a50dbca-7a86-471e-ed64-8c2948eb9219"
      },
      "outputs": [
        {
          "output_type": "stream",
          "name": "stdout",
          "text": [
            "Mounted at /content/drive\n"
          ]
        }
      ],
      "source": [
        "from google.colab import drive\n",
        "drive.mount('/content/drive')"
      ]
    },
    {
      "cell_type": "markdown",
      "source": [
        "# Get clean video and convert to images"
      ],
      "metadata": {
        "id": "znbvDEnBVFs6"
      }
    },
    {
      "cell_type": "code",
      "source": [
        "import os\n",
        "\n",
        "path= '/content/drive/MyDrive/images_clean_plated'\n",
        "\n",
        "if not os.path.exists(path):\n",
        "  os.mkdir(path)"
      ],
      "metadata": {
        "id": "ec3V51tzTK68"
      },
      "execution_count": null,
      "outputs": []
    },
    {
      "cell_type": "code",
      "source": [
        "import cv2\n",
        "\n",
        "vidcap = cv2.VideoCapture('/content/drive/MyDrive/cleaned_plate_images_from_flow_guided_transformer/result.mp4')\n",
        "success,image = vidcap.read()\n",
        "count = 0\n",
        "while success:\n",
        "  cv2.imwrite(f\"{path}/%d.jpg\" % count, image)   # save frame as JPEG file      \n",
        "  success,image = vidcap.read()\n",
        "  # print('Read a new frame: ', success)\n",
        "  count += 1"
      ],
      "metadata": {
        "id": "HRTYBqKFTpL3"
      },
      "execution_count": null,
      "outputs": []
    },
    {
      "cell_type": "code",
      "source": [],
      "metadata": {
        "id": "iovxsy-tULz7"
      },
      "execution_count": null,
      "outputs": []
    },
    {
      "cell_type": "markdown",
      "source": [
        "# remove duplicate images"
      ],
      "metadata": {
        "id": "i9DF4TfGVgwO"
      }
    },
    {
      "cell_type": "code",
      "source": [
        "path_to_images = '/content/drive/MyDrive/images_clean_plated'\n",
        "import os \n",
        "\n",
        "list_of_file_paths = []\n",
        "\n",
        "number_files_in_folder = len(os.listdir(path_to_images))\n",
        "for index in range(number_files_in_folder):\n",
        "  single_file_path = os.path.join(path_to_images, f'{index}.jpg')\n",
        "  # print(single_file_path)\n",
        "  list_of_file_paths.append(single_file_path)"
      ],
      "metadata": {
        "id": "NQ6FpeS8Vq13"
      },
      "execution_count": null,
      "outputs": []
    },
    {
      "cell_type": "code",
      "source": [
        "len(list_of_file_paths)"
      ],
      "metadata": {
        "colab": {
          "base_uri": "https://localhost:8080/"
        },
        "id": "mWapcK6LbPul",
        "outputId": "b472e2f6-88db-44ec-a4d2-0dc50da6a891"
      },
      "execution_count": null,
      "outputs": [
        {
          "output_type": "execute_result",
          "data": {
            "text/plain": [
              "45"
            ]
          },
          "metadata": {},
          "execution_count": 5
        }
      ]
    },
    {
      "cell_type": "code",
      "source": [
        "n = len(list_of_file_paths)\n",
        "\n",
        "total = 0\n",
        "\n",
        "for i in range(n-1):\n",
        "  j=i+1\n",
        "  # Load the images\n",
        "  img1 = cv2.imread( list_of_file_paths[i] )\n",
        "  img2 = cv2.imread( list_of_file_paths[j] )\n",
        "\n",
        "  # Calculate the histograms, and normalize them\n",
        "  hist_img1 = cv2.calcHist([img1], [0, 1, 2], None, [256, 256, 256], [0, 256, 0, 256, 0, 256])\n",
        "  cv2.normalize(hist_img1, hist_img1, alpha=0, beta=1, norm_type=cv2.NORM_MINMAX)\n",
        "  hist_img2 = cv2.calcHist([img2], [0, 1, 2], None, [256, 256, 256], [0, 256, 0, 256, 0, 256])\n",
        "  cv2.normalize(hist_img2, hist_img2, alpha=0, beta=1, norm_type=cv2.NORM_MINMAX)\n",
        "\n",
        "  # Find the metric value\n",
        "  metric_val = cv2.compareHist(hist_img1, hist_img2, cv2.HISTCMP_CORREL)\n",
        "\n",
        "  print(f'i: {i}', f\"j: {j} \",metric_val)\n",
        "\n",
        "  total += metric_val\n",
        "\n",
        "mean = round(total/(n-1), 4)\n",
        "\n"
      ],
      "metadata": {
        "colab": {
          "base_uri": "https://localhost:8080/"
        },
        "id": "Lt5dggdaACGy",
        "outputId": "4cf367f4-0d71-4f21-a692-1fd75ca95693"
      },
      "execution_count": null,
      "outputs": [
        {
          "output_type": "stream",
          "name": "stdout",
          "text": [
            "i: 0 j: 1  0.9999246417692946\n",
            "i: 1 j: 2  0.9996772051969233\n",
            "i: 2 j: 3  0.9999908802744075\n",
            "i: 3 j: 4  0.9999401162703848\n",
            "i: 4 j: 5  0.9999648527260643\n",
            "i: 5 j: 6  0.9999850698702162\n",
            "i: 6 j: 7  0.9999476066291715\n",
            "i: 7 j: 8  0.9999914953457864\n",
            "i: 8 j: 9  0.9999818557414151\n",
            "i: 9 j: 10  0.9998968935605477\n",
            "i: 10 j: 11  0.9998479485558468\n",
            "i: 11 j: 12  0.9990436817131678\n",
            "i: 12 j: 13  0.9990336631160286\n",
            "i: 13 j: 14  0.9999130155393453\n",
            "i: 14 j: 15  0.9999769322409486\n",
            "i: 15 j: 16  0.9999744979675297\n",
            "i: 16 j: 17  0.9998810546518337\n",
            "i: 17 j: 18  0.99997686623846\n",
            "i: 18 j: 19  0.99998242053623\n",
            "i: 19 j: 20  0.9999309063776638\n",
            "i: 20 j: 21  0.9999854088274942\n",
            "i: 21 j: 22  0.9999901093962484\n",
            "i: 22 j: 23  0.9983090170797918\n",
            "i: 23 j: 24  0.9978110534766486\n",
            "i: 24 j: 25  0.9999875583929211\n",
            "i: 25 j: 26  0.9999826561396907\n",
            "i: 26 j: 27  0.9999100800849728\n",
            "i: 27 j: 28  0.9999498832571708\n",
            "i: 28 j: 29  0.9999751809286995\n",
            "i: 29 j: 30  0.999885953028\n",
            "i: 30 j: 31  0.9999465346321752\n",
            "i: 31 j: 32  0.9999233790978311\n",
            "i: 32 j: 33  0.9999067363698082\n",
            "i: 33 j: 34  0.9968507702003996\n",
            "i: 34 j: 35  0.9967497608920778\n",
            "i: 35 j: 36  0.9999482031891284\n",
            "i: 36 j: 37  0.9998806896908746\n",
            "i: 37 j: 38  0.9999112642720969\n",
            "i: 38 j: 39  0.9999451760529832\n",
            "i: 39 j: 40  0.9964780739087442\n",
            "i: 40 j: 41  0.9999440704203095\n",
            "i: 41 j: 42  0.9999955075377\n",
            "i: 42 j: 43  0.9999953396832384\n",
            "i: 43 j: 44  0.9999161222996996\n"
          ]
        }
      ]
    },
    {
      "cell_type": "code",
      "source": [
        "mean"
      ],
      "metadata": {
        "colab": {
          "base_uri": "https://localhost:8080/"
        },
        "id": "FC52xEWlAfsn",
        "outputId": "307fc4c1-2946-4b98-e2f0-e78ace07dac1"
      },
      "execution_count": null,
      "outputs": [
        {
          "output_type": "execute_result",
          "data": {
            "text/plain": [
              "0.9996"
            ]
          },
          "metadata": {},
          "execution_count": 7
        }
      ]
    },
    {
      "cell_type": "code",
      "source": [
        "# if error thrown, it should be fine\n",
        "\n",
        "import cv2\n",
        "\n",
        "n = len(list_of_file_paths)\n",
        "\n",
        "for i in range(n-1):\n",
        "  j=i+1\n",
        "  # Load the images\n",
        "  img1 = cv2.imread( list_of_file_paths[i] )\n",
        "  img2 = cv2.imread( list_of_file_paths[j] )\n",
        "\n",
        "  # Calculate the histograms, and normalize them\n",
        "  hist_img1 = cv2.calcHist([img1], [0, 1, 2], None, [256, 256, 256], [0, 256, 0, 256, 0, 256])\n",
        "  cv2.normalize(hist_img1, hist_img1, alpha=0, beta=1, norm_type=cv2.NORM_MINMAX)\n",
        "  hist_img2 = cv2.calcHist([img2], [0, 1, 2], None, [256, 256, 256], [0, 256, 0, 256, 0, 256])\n",
        "  cv2.normalize(hist_img2, hist_img2, alpha=0, beta=1, norm_type=cv2.NORM_MINMAX)\n",
        "\n",
        "  # Find the metric value\n",
        "  metric_val = cv2.compareHist(hist_img1, hist_img2, cv2.HISTCMP_CORREL)\n",
        "\n",
        "  values_in_set = {i,j}\n",
        "\n",
        "  if metric_val < mean:\n",
        "    img1 = cv2.imread( list_of_file_paths[i+1] )\n",
        "    img2 = cv2.imread( list_of_file_paths[j+1] )\n",
        "\n",
        "    # Calculate the histograms, and normalize them\n",
        "    hist_img1 = cv2.calcHist([img1], [0, 1, 2], None, [256, 256, 256], [0, 256, 0, 256, 0, 256])\n",
        "    cv2.normalize(hist_img1, hist_img1, alpha=0, beta=1, norm_type=cv2.NORM_MINMAX)\n",
        "    hist_img2 = cv2.calcHist([img2], [0, 1, 2], None, [256, 256, 256], [0, 256, 0, 256, 0, 256])\n",
        "    cv2.normalize(hist_img2, hist_img2, alpha=0, beta=1, norm_type=cv2.NORM_MINMAX)\n",
        "    # Find the metric value\n",
        "    metric_val = cv2.compareHist(hist_img1, hist_img2, cv2.HISTCMP_CORREL)\n",
        "\n",
        "    if metric_val < mean:\n",
        "      print(f'{i+1} must be the issue here')\n",
        "      del(list_of_file_paths[i+1])\n",
        "      print(f'i: {i+1}', f\"j: {j+1} \",metric_val)"
      ],
      "metadata": {
        "colab": {
          "base_uri": "https://localhost:8080/",
          "height": 339
        },
        "id": "7yAedj8teQEe",
        "outputId": "08b770a5-3cb9-4707-e8ae-3d15de6359dd"
      },
      "execution_count": null,
      "outputs": [
        {
          "output_type": "stream",
          "name": "stdout",
          "text": [
            "12 must be the issue here\n",
            "i: 12 j: 13  0.9990336631160286\n",
            "22 must be the issue here\n",
            "i: 22 j: 23  0.9978110534766486\n",
            "32 must be the issue here\n",
            "i: 32 j: 33  0.9967497608920778\n"
          ]
        },
        {
          "output_type": "error",
          "ename": "IndexError",
          "evalue": "ignored",
          "traceback": [
            "\u001b[0;31m---------------------------------------------------------------------------\u001b[0m",
            "\u001b[0;31mIndexError\u001b[0m                                Traceback (most recent call last)",
            "\u001b[0;32m<ipython-input-8-115736e79033>\u001b[0m in \u001b[0;36m<cell line: 5>\u001b[0;34m()\u001b[0m\n\u001b[1;32m      7\u001b[0m   \u001b[0;31m# Load the images\u001b[0m\u001b[0;34m\u001b[0m\u001b[0;34m\u001b[0m\u001b[0m\n\u001b[1;32m      8\u001b[0m   \u001b[0mimg1\u001b[0m \u001b[0;34m=\u001b[0m \u001b[0mcv2\u001b[0m\u001b[0;34m.\u001b[0m\u001b[0mimread\u001b[0m\u001b[0;34m(\u001b[0m \u001b[0mlist_of_file_paths\u001b[0m\u001b[0;34m[\u001b[0m\u001b[0mi\u001b[0m\u001b[0;34m]\u001b[0m \u001b[0;34m)\u001b[0m\u001b[0;34m\u001b[0m\u001b[0;34m\u001b[0m\u001b[0m\n\u001b[0;32m----> 9\u001b[0;31m   \u001b[0mimg2\u001b[0m \u001b[0;34m=\u001b[0m \u001b[0mcv2\u001b[0m\u001b[0;34m.\u001b[0m\u001b[0mimread\u001b[0m\u001b[0;34m(\u001b[0m \u001b[0mlist_of_file_paths\u001b[0m\u001b[0;34m[\u001b[0m\u001b[0mj\u001b[0m\u001b[0;34m]\u001b[0m \u001b[0;34m)\u001b[0m\u001b[0;34m\u001b[0m\u001b[0;34m\u001b[0m\u001b[0m\n\u001b[0m\u001b[1;32m     10\u001b[0m \u001b[0;34m\u001b[0m\u001b[0m\n\u001b[1;32m     11\u001b[0m   \u001b[0;31m# Calculate the histograms, and normalize them\u001b[0m\u001b[0;34m\u001b[0m\u001b[0;34m\u001b[0m\u001b[0m\n",
            "\u001b[0;31mIndexError\u001b[0m: list index out of range"
          ]
        }
      ]
    },
    {
      "cell_type": "code",
      "source": [
        "mean"
      ],
      "metadata": {
        "colab": {
          "base_uri": "https://localhost:8080/"
        },
        "id": "9CmJkUXZ_nWu",
        "outputId": "263d95f8-010a-4e4a-cd1e-0d67b2a824ed"
      },
      "execution_count": null,
      "outputs": [
        {
          "output_type": "execute_result",
          "data": {
            "text/plain": [
              "0.9996"
            ]
          },
          "metadata": {},
          "execution_count": 9
        }
      ]
    },
    {
      "cell_type": "code",
      "source": [
        "len(list_of_file_paths)"
      ],
      "metadata": {
        "colab": {
          "base_uri": "https://localhost:8080/"
        },
        "id": "Mphcarh-yzH6",
        "outputId": "a3a0d5c6-51d2-4d74-9722-e50df04cc62c"
      },
      "execution_count": null,
      "outputs": [
        {
          "output_type": "execute_result",
          "data": {
            "text/plain": [
              "42"
            ]
          },
          "metadata": {},
          "execution_count": 10
        }
      ]
    },
    {
      "cell_type": "code",
      "source": [
        "cv2.imread(list_of_file_paths[0])"
      ],
      "metadata": {
        "id": "Xl8MmAjUjMHk"
      },
      "execution_count": null,
      "outputs": []
    },
    {
      "cell_type": "code",
      "source": [
        "import cv2\n",
        "import os\n",
        "\n",
        "video_name = '/content/drive/MyDrive/cleaned_plate_images_from_flow_guided_transformer/video.mp4'\n",
        "\n",
        "frame = cv2.imread(list_of_file_paths[0])\n",
        "fourcc = cv2.VideoWriter_fourcc(*'MP4V')\n",
        "height, width, layers = frame.shape\n",
        "out = cv2.VideoWriter(video_name, fourcc, 20.0, (width,height))\n",
        "\n",
        "\n",
        "for image in list_of_file_paths:\n",
        "    out.write(cv2.imread(image))\n",
        "\n",
        "cv2.destroyAllWindows()\n",
        "out.release()"
      ],
      "metadata": {
        "id": "lvVkZtYxnv5Z"
      },
      "execution_count": null,
      "outputs": []
    },
    {
      "cell_type": "code",
      "source": [
        "\n",
        "\n"
      ],
      "metadata": {
        "id": "A5hTLj4mnyCB"
      },
      "execution_count": null,
      "outputs": []
    }
  ]
}